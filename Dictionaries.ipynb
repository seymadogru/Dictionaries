{
 "cells": [
  {
   "cell_type": "markdown",
   "id": "c3396a8e",
   "metadata": {},
   "source": [
    "(1) İçerisinde 7 günün bulunduğu bir sözlük oluşturun. Kullanıcıya günleri listeleyerek 2 farklı gün seçmesini isteyin (örneğin pazartesi ve salı için \"12\" gibi). Kullanıcının seçtiği günleri sözlükten silerek kalan 5 günü ekrana yazdırın."
   ]
  },
  {
   "cell_type": "code",
   "execution_count": 1,
   "id": "7eb67861",
   "metadata": {},
   "outputs": [
    {
     "name": "stdout",
     "output_type": "stream",
     "text": [
      "{'1': 'pazartesi', '2': 'salı', '3': 'çarşamba', '4': 'perşembe', '5': 'cuma', '6': 'cumartesi', '7': 'pazar'}\n",
      "lütfen 2 adet gün numarası giriniz:24\n",
      "{'1': 'pazartesi', '3': 'çarşamba', '5': 'cuma', '6': 'cumartesi', '7': 'pazar'}\n"
     ]
    }
   ],
   "source": [
    "days={\"1\":\"pazartesi\",\"2\":\"salı\",\"3\":\"çarşamba\",\"4\":\"perşembe\",\"5\":\"cuma\",\"6\":\"cumartesi\",\"7\":\"pazar\"}\n",
    "print(days)\n",
    "selectdays= input(\"lütfen 2 adet gün numarası giriniz:\")\n",
    "firstday=selectdays[0]\n",
    "secondday = selectdays[1]\n",
    "del days[firstday]\n",
    "del days[secondday]\n",
    "print(days)"
   ]
  },
  {
   "cell_type": "markdown",
   "id": "b0cdd719",
   "metadata": {},
   "source": [
    "Aşağıdaki bilgiler içeren bir sözlük oluşturun. Anahtar olarak isimleri kullanın.\n",
    "\n",
    "Name - Age - Sex\n",
    "\n",
    "John - 25 - Male\n",
    "\n",
    "Lisa - 28 - Female\n",
    "\n",
    "Linda -32 - Female\n",
    "\n",
    "Michael - 41 - Male\n"
   ]
  },
  {
   "cell_type": "code",
   "execution_count": 4,
   "id": "ed4831ed",
   "metadata": {},
   "outputs": [
    {
     "name": "stdout",
     "output_type": "stream",
     "text": [
      "{'John': {'age': 25, 'sex': 'Male'}, 'Lisa': {'age': 28, 'sex': 'Female'}, 'Linda': {'age': 32, 'sex': 'Female'}, 'Michael': {'age': 41, 'sex': 'Male'}}\n"
     ]
    }
   ],
   "source": [
    "information={'John':{'age':25,'sex':'Male'},\n",
    "             'Lisa':{'age':28,'sex':'Female'},\n",
    "             'Linda':{'age':32,'sex':'Female'},\n",
    "             'Michael':{'age':41,'sex':'Male'}\n",
    "             }\n",
    "print(information) "
   ]
  },
  {
   "cell_type": "markdown",
   "id": "fb13a857",
   "metadata": {},
   "source": [
    "(3) Michael ve Linda'ya çocuk bilgisi ekleyin. Michael'in iki 12 yaşında Karen isminde bir kızı ve 7 yaşında Greg isminde bir oğlu, Linda'nın ise 6 yaşında Susan isminde bir kızı var."
   ]
  },
  {
   "cell_type": "code",
   "execution_count": 5,
   "id": "ac1d5e23",
   "metadata": {},
   "outputs": [
    {
     "name": "stdout",
     "output_type": "stream",
     "text": [
      "{'John': {'age': 25, 'sex': 'Male'}, 'Lisa': {'age': 28, 'sex': 'Female'}, 'Linda': {'age': 32, 'sex': 'Female', 'children': {'Susan': {'yas': 6}}}, 'Michael': {'age': 41, 'sex': 'Male', 'children': {'Karen': {'yas': 12}, 'Greg': {'yas': 7}}}}\n"
     ]
    }
   ],
   "source": [
    "information={'John':{'age':25,'sex':'Male'},\n",
    "             'Lisa':{'age':28,'sex':'Female'},\n",
    "             'Linda':{'age':32,'sex':'Female','children':{\n",
    "                 'Susan':{'yas':6}}},\n",
    "             'Michael':{'age':41,'sex':'Male','children':{\n",
    "                 'Karen':{'yas':12},\n",
    "                 'Greg':{'yas':7}}\n",
    "              }\n",
    "             }\n",
    "\n",
    "print(information)"
   ]
  },
  {
   "cell_type": "markdown",
   "id": "77789e3b",
   "metadata": {},
   "source": [
    "(4) Michael'ın çocuklarının adlarını yazdırın."
   ]
  },
  {
   "cell_type": "code",
   "execution_count": 6,
   "id": "c7f8820e",
   "metadata": {},
   "outputs": [
    {
     "name": "stdout",
     "output_type": "stream",
     "text": [
      "dict_keys(['Karen', 'Greg'])\n"
     ]
    }
   ],
   "source": [
    "information={'John':{'age':25,'sex':'Male'},'Lisa':{'age':28,'sex':'Female'},\n",
    "             'Linda':{'age':32,'sex':'Female','children':{\n",
    "                 'Susan':{'yas':6}}},\n",
    "             'Michael':{'age':41,'sex':'Male','children':{\n",
    "                 'Karen':{'yas':12},\n",
    "                 'Greg':{'yas':7}}\n",
    "              }\n",
    "             }\n",
    "print((information['Michael']['children']).keys())"
   ]
  },
  {
   "cell_type": "code",
   "execution_count": null,
   "id": "6e1b2b43",
   "metadata": {},
   "outputs": [],
   "source": []
  }
 ],
 "metadata": {
  "kernelspec": {
   "display_name": "Python 3",
   "language": "python",
   "name": "python3"
  },
  "language_info": {
   "codemirror_mode": {
    "name": "ipython",
    "version": 3
   },
   "file_extension": ".py",
   "mimetype": "text/x-python",
   "name": "python",
   "nbconvert_exporter": "python",
   "pygments_lexer": "ipython3",
   "version": "3.8.8"
  }
 },
 "nbformat": 4,
 "nbformat_minor": 5
}
